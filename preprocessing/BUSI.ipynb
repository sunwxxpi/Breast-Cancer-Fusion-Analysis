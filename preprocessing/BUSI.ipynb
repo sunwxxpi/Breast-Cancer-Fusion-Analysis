{
 "cells": [
  {
   "cell_type": "code",
   "execution_count": 21,
   "metadata": {},
   "outputs": [],
   "source": [
    "import os\n",
    "import cv2\n",
    "from glob import glob\n",
    "import shutil\n",
    "import numpy as np"
   ]
  },
  {
   "cell_type": "code",
   "execution_count": 37,
   "metadata": {},
   "outputs": [
    {
     "data": {
      "text/plain": [
       "(780, 780)"
      ]
     },
     "execution_count": 37,
     "metadata": {},
     "output_type": "execute_result"
    }
   ],
   "source": [
    "for imgfile in glob('./*/*).png'):\n",
    "    \n",
    "    #shutil.copy(imgfile, f\"./imagesTr/{imgfile.split('/')[-1].replace(' (', '_').replace(')', '')}\")\n",
    "    \n",
    "    segfiles = glob(imgfile.replace('.png', '_mask*'))\n",
    "    if len(segfiles) == 1:\n",
    "        shutil.copy(segfiles[0], f\"./labelsTr/{segfiles[0].split('/')[-1].replace(' (', '_').replace(')_mask', '')}\")\n",
    "    else:\n",
    "        for idx, seg in enumerate(segfiles):\n",
    "            if idx == 0:\n",
    "                mask = cv2.imread(seg)\n",
    "            else:\n",
    "                mask = np.logical_or(mask, cv2.imread(seg)).astype(np.int8) * 255\n",
    "        cv2.imwrite(f\"./labelsTr/{sorted(segfiles)[0].split('/')[-1].replace(' (', '_').replace(')_mask', '')}\", mask)   \n",
    "\n",
    "len(glob('./imagesTr/*')), len(glob('./labelsTr/*'))"
   ]
  },
  {
   "cell_type": "code",
   "execution_count": null,
   "metadata": {},
   "outputs": [],
   "source": [
    "img_tib = cv2.imread(\"/home/nute11a/workspace/AnkleStability/make_figure/demos/talus/ap_r_mask_2.png\")\n",
    "img_tal = cv2.imread(\"/home/nute11a/workspace/AnkleStability/make_figure/demos/tibia/ap_r_mask_2.png\")\n",
    "img = (np.logical_or(img_tib, img_tal)).astype(np.int8) * 255\n",
    "cv2.imwrite('./ankle_ap_2.png', img)"
   ]
  }
 ],
 "metadata": {
  "kernelspec": {
   "display_name": "senv",
   "language": "python",
   "name": "python3"
  },
  "language_info": {
   "codemirror_mode": {
    "name": "ipython",
    "version": 3
   },
   "file_extension": ".py",
   "mimetype": "text/x-python",
   "name": "python",
   "nbconvert_exporter": "python",
   "pygments_lexer": "ipython3",
   "version": "3.10.12"
  }
 },
 "nbformat": 4,
 "nbformat_minor": 2
}
