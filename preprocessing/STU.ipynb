{
 "cells": [
  {
   "cell_type": "code",
   "execution_count": 1,
   "metadata": {},
   "outputs": [],
   "source": [
    "import os\n",
    "from glob import glob\n",
    "import cv2\n",
    "import numpy as np\n",
    "import shutil\n",
    "from tqdm import tqdm"
   ]
  },
  {
   "cell_type": "markdown",
   "metadata": {},
   "source": [
    "#### img & mask"
   ]
  },
  {
   "cell_type": "code",
   "execution_count": 7,
   "metadata": {},
   "outputs": [],
   "source": [
    "p = '/home/nute11a/nfs_server/dataset/original/Ultrasound/STU'\n",
    "savep_img = '../dataset/STU/imagesTr'\n",
    "savep_seg = '../dataset/STU/labelsTr'\n",
    "os.makedirs(savep_img, exist_ok=True)\n",
    "os.makedirs(savep_seg, exist_ok=True)"
   ]
  },
  {
   "cell_type": "code",
   "execution_count": 18,
   "metadata": {},
   "outputs": [
    {
     "name": "stderr",
     "output_type": "stream",
     "text": [
      "100%|██████████| 84/84 [00:00<00:00, 2264.16it/s]\n"
     ]
    }
   ],
   "source": [
    "for img in tqdm(glob(f\"{p}/*\")):\n",
    "    sample = img.split('/')[-1]\n",
    "    if 'Test_Image_' in sample:\n",
    "        savename = sample.replace('Test_Image_', '')\n",
    "        shutil.copy(img, f\"{savep_img}/{savename}\")\n",
    "    else:\n",
    "        savename = sample.replace('mask_', '')\n",
    "        shutil.copy(img, f\"{savep_seg}/{savename}\")"
   ]
  },
  {
   "cell_type": "code",
   "execution_count": 19,
   "metadata": {},
   "outputs": [
    {
     "name": "stdout",
     "output_type": "stream",
     "text": [
      "images : 42\n",
      "labels : 42\n"
     ]
    }
   ],
   "source": [
    "print(f'images : {len(os.listdir(savep_img))}')\n",
    "print(f'labels : {len(os.listdir(savep_seg))}')"
   ]
  }
 ],
 "metadata": {
  "kernelspec": {
   "display_name": "senv",
   "language": "python",
   "name": "python3"
  },
  "language_info": {
   "codemirror_mode": {
    "name": "ipython",
    "version": 3
   },
   "file_extension": ".py",
   "mimetype": "text/x-python",
   "name": "python",
   "nbconvert_exporter": "python",
   "pygments_lexer": "ipython3",
   "version": "3.10.12"
  }
 },
 "nbformat": 4,
 "nbformat_minor": 2
}
